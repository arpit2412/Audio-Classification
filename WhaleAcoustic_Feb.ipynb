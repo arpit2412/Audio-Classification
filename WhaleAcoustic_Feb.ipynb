{
 "cells": [
  {
   "cell_type": "code",
   "execution_count": 9,
   "id": "healthy-ability",
   "metadata": {},
   "outputs": [],
   "source": [
    "#Please activate whale environment before running jupyter-notebook \n",
    "import torch\n",
    "import torchaudio\n",
    "import requests\n",
    "import matplotlib.pyplot as plt\n",
    "import numpy as np\n",
    "import librosa\n",
    "import librosa.display\n",
    "import glob, os"
   ]
  },
  {
   "cell_type": "code",
   "execution_count": 5,
   "id": "billion-albert",
   "metadata": {},
   "outputs": [],
   "source": [
    "path_casey14 = '/home/arpit_1/whale/dataset/annotatedLibrary/annotatedLibrary/casey2014/wav/'\n",
    "path_balleny = '/home/arpit_1/whale/dataset/annotatedLibrary/annotatedLibrary/BallenyIslands2015/wav/'\n",
    "path_casey17 = '/home/arpit_1/whale/dataset/annotatedLibrary/annotatedLibrary/casey2017/wav/'\n",
    "path_elephant13 = '/home/arpit_1/whale/dataset/annotatedLibrary/annotatedLibrary/ElephantIsland2013Aural/wav/'\n",
    "path_elephant14 = '/home/arpit_1/whale/dataset/annotatedLibrary/annotatedLibrary/ElephantIsland2014/wav/'\n",
    "path_green = '/home/arpit_1/whale/dataset/annotatedLibrary/annotatedLibrary/Greenwich64S2015/wav/'\n",
    "path_kerguelen05 = '/home/arpit_1/whale/dataset/annotatedLibrary/annotatedLibrary/kerguelen2005/wav/'\n",
    "path_kerguelen14 = '/home/arpit_1/whale/dataset/annotatedLibrary/annotatedLibrary/kerguelen2014/wav/'\n",
    "path_kerguelen15 = '/home/arpit_1/whale/dataset/annotatedLibrary/annotatedLibrary/kerguelen2015/wav/'\n",
    "path_maud = '/home/arpit_1/whale/dataset/annotatedLibrary/annotatedLibrary/MaudRise2014/wav/'\n",
    "path_ross = '/home/arpit_1/whale/dataset/annotatedLibrary/annotatedLibrary/RossSea2014/wav/'"
   ]
  },
  {
   "cell_type": "code",
   "execution_count": 8,
   "id": "eleven-malawi",
   "metadata": {},
   "outputs": [],
   "source": [
    "def plot_mp3_matplot(filename):\n",
    "    \"\"\"\n",
    "    plot_mp3_matplot -- using matplotlib to simply plot time vs amplitude waveplot\n",
    "    \n",
    "    Arguments:\n",
    "    filename -- filepath to the file that you want to see the waveplot for\n",
    "    \n",
    "    Returns -- None\n",
    "    \"\"\"\n",
    "    \n",
    "    # sr is for 'sampling rate'\n",
    "    # Feel free to adjust it\n",
    "    x, sr = librosa.load(filename)\n",
    "    plt.figure(figsize=(14, 5))\n",
    "    librosa.display.waveplot(x, sr=sr)\n",
    "\n",
    "def convert_audio_to_spectogram(filename, plt=False):\n",
    "    \"\"\"\n",
    "    convert_audio_to_spectogram -- using librosa to simply plot a spectogram\n",
    "    \n",
    "    Arguments:\n",
    "    filename -- filepath to the file that you want to see the waveplot for\n",
    "    \n",
    "    Returns -- None\n",
    "    \"\"\"\n",
    "    \n",
    "    # sr == sampling rate \n",
    "    x, sr = librosa.load(filename, sr=500)\n",
    "    \n",
    "    # stft is short time fourier transform\n",
    "    X = librosa.stft(x)\n",
    "    \n",
    "    # convert the slices to amplitude\n",
    "    Xdb = librosa.amplitude_to_db(abs(X))\n",
    "    #print(Xdb)\n",
    "    # ... and plot, magic!\n",
    "    # if plt true then plot graph\n",
    "    if(plt):\n",
    "        plt.figure(figsize=(14, 5))\n",
    "        librosa.display.specshow(Xdb, sr = sr, x_axis = 'time', y_axis = 'hz')\n",
    "        plt.colorbar()\n",
    "        \n",
    "    return Xdb\n",
    "    \n",
    "# same as above, just changed the y_axis from hz to log in the display func    \n",
    "def convert_audio_to_spectogram_log(filename):\n",
    "    x, sr = librosa.load(filename, sr=500)\n",
    "    X = librosa.stft(x)\n",
    "    Xdb = librosa.amplitude_to_db(abs(X))\n",
    "    plt.figure(figsize=(14, 5))\n",
    "    librosa.display.specshow(Xdb, sr = sr, x_axis = 'time', y_axis = 'log')\n",
    "    #plt.colorbar()  "
   ]
  },
  {
   "cell_type": "markdown",
   "id": "operating-enlargement",
   "metadata": {},
   "source": [
    "# One Sample"
   ]
  },
  {
   "cell_type": "code",
   "execution_count": 10,
   "id": "institutional-promise",
   "metadata": {},
   "outputs": [],
   "source": [
    "a = convert_audio_to_spectogram(path_casey14+'200_2014-05-27_13-00-00.wav')"
   ]
  },
  {
   "cell_type": "code",
   "execution_count": 11,
   "id": "corrected-console",
   "metadata": {},
   "outputs": [
    {
     "data": {
      "text/plain": [
       "(1025, 3517)"
      ]
     },
     "execution_count": 11,
     "metadata": {},
     "output_type": "execute_result"
    }
   ],
   "source": [
    "a.shape"
   ]
  },
  {
   "cell_type": "code",
   "execution_count": 12,
   "id": "still-mouse",
   "metadata": {},
   "outputs": [
    {
     "data": {
      "text/plain": [
       "array([[ 24.732555,  24.69487 ,  24.659157, ...,  24.662159,  24.657852,\n",
       "         24.653137],\n",
       "       [ 18.79696 ,  18.627325,  18.646963, ...,  18.641922,  18.644293,\n",
       "         18.618372],\n",
       "       [-15.433549, -20.409174, -38.757694, ..., -34.224865, -27.915945,\n",
       "        -24.241056],\n",
       "       ...,\n",
       "       [-41.28499 , -47.315468, -55.267445, ..., -55.267445, -55.267445,\n",
       "        -55.267445],\n",
       "       [-41.26911 , -47.27703 , -55.267445, ..., -55.267445, -55.267445,\n",
       "        -55.267445],\n",
       "       [-41.26573 , -47.293015, -55.267445, ..., -55.267445, -55.267445,\n",
       "        -55.267445]], dtype=float32)"
      ]
     },
     "execution_count": 12,
     "metadata": {},
     "output_type": "execute_result"
    }
   ],
   "source": [
    "a"
   ]
  },
  {
   "cell_type": "markdown",
   "id": "loose-trigger",
   "metadata": {},
   "source": [
    "# Doing for each folder now"
   ]
  },
  {
   "cell_type": "code",
   "execution_count": null,
   "id": "lightweight-tournament",
   "metadata": {},
   "outputs": [],
   "source": [
    "# Casey_14 \n",
    "casey14 = []\n",
    "os.chdir(path_casey14)\n",
    "for file in glob.glob(\"*.wav\"):\n",
    "    casey14.append(convert_audio_to_spectogram(file))"
   ]
  },
  {
   "cell_type": "code",
   "execution_count": null,
   "id": "settled-trail",
   "metadata": {},
   "outputs": [],
   "source": [
    "# Balleny_Island\n",
    "balleny = []\n",
    "os.chdir(path_balleny)\n",
    "for file in glob.glob(\"*.wav\"):\n",
    "    balleny.append(convert_audio_to_spectogram(file))"
   ]
  },
  {
   "cell_type": "code",
   "execution_count": null,
   "id": "grand-portal",
   "metadata": {},
   "outputs": [],
   "source": [
    "# Casey_17\n",
    "casey17 = []\n",
    "os.chdir(path_casey17)\n",
    "for file in glob.glob(\"*.wav\"):\n",
    "    casey17.append(convert_audio_to_spectogram(file))"
   ]
  },
  {
   "cell_type": "code",
   "execution_count": null,
   "id": "ordered-petite",
   "metadata": {},
   "outputs": [],
   "source": [
    "# Elephant_Island2013 \n",
    "elephant13 = []\n",
    "os.chdir(path_elephant13)\n",
    "for file in glob.glob(\"*.wav\"):\n",
    "    elephant13.append(convert_audio_to_spectogram(file))"
   ]
  },
  {
   "cell_type": "code",
   "execution_count": null,
   "id": "informed-toilet",
   "metadata": {},
   "outputs": [],
   "source": [
    "# Elephant_Island2014\n",
    "elephant14 = []\n",
    "os.chdir(path_elephant14)\n",
    "for file in glob.glob(\"*.wav\"):\n",
    "    elephant14.append(convert_audio_to_spectogram(file))"
   ]
  },
  {
   "cell_type": "code",
   "execution_count": null,
   "id": "boxed-springer",
   "metadata": {},
   "outputs": [],
   "source": [
    "# Greenwich_Island\n",
    "green = []\n",
    "os.chdir(path_green)\n",
    "for file in glob.glob(\"*.wav\"):\n",
    "    green.append(convert_audio_to_spectogram(file))"
   ]
  },
  {
   "cell_type": "code",
   "execution_count": null,
   "id": "noticed-exception",
   "metadata": {},
   "outputs": [],
   "source": [
    "# Kerguelen_Island2005\n",
    "kerguelen05 = []\n",
    "os.chdir(path_kerguelen05)\n",
    "for file in glob.glob(\"*.wav\"):\n",
    "    kerguelen05.append(convert_audio_to_spectogram(file))"
   ]
  },
  {
   "cell_type": "code",
   "execution_count": null,
   "id": "expected-corporation",
   "metadata": {},
   "outputs": [],
   "source": [
    "# Kerguelen_Island2014\n",
    "kerguelen14 = []\n",
    "os.chdir(path_kerguelen14)\n",
    "for file in glob.glob(\"*.wav\"):\n",
    "    kerguelen14.append(convert_audio_to_spectogram(file))"
   ]
  },
  {
   "cell_type": "code",
   "execution_count": null,
   "id": "parental-export",
   "metadata": {},
   "outputs": [],
   "source": [
    "# Kerguelen_Island2015\n",
    "kerguelen15 = []\n",
    "os.chdir(path_kerguelen15)\n",
    "for file in glob.glob(\"*.wav\"):\n",
    "    kerguelen15.append(convert_audio_to_spectogram(file))"
   ]
  },
  {
   "cell_type": "code",
   "execution_count": null,
   "id": "accepting-recycling",
   "metadata": {},
   "outputs": [],
   "source": [
    "# Maud_Island\n",
    "maud = []\n",
    "os.chdir(path_maud)\n",
    "for file in glob.glob(\"*.wav\"):\n",
    "    maud.append(convert_audio_to_spectogram(file))"
   ]
  },
  {
   "cell_type": "code",
   "execution_count": null,
   "id": "injured-instrument",
   "metadata": {},
   "outputs": [],
   "source": [
    "# Ross_Island\n",
    "ross = []\n",
    "os.chdir(path_ross)\n",
    "for file in glob.glob(\"*.wav\"):\n",
    "    ross.append(convert_audio_to_spectogram(file))"
   ]
  }
 ],
 "metadata": {
  "kernelspec": {
   "display_name": "Python 3",
   "language": "python",
   "name": "python3"
  },
  "language_info": {
   "codemirror_mode": {
    "name": "ipython",
    "version": 3
   },
   "file_extension": ".py",
   "mimetype": "text/x-python",
   "name": "python",
   "nbconvert_exporter": "python",
   "pygments_lexer": "ipython3",
   "version": "3.8.5"
  }
 },
 "nbformat": 4,
 "nbformat_minor": 5
}
