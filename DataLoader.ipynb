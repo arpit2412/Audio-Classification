{
 "cells": [
  {
   "cell_type": "code",
   "execution_count": 1,
   "id": "white-arbor",
   "metadata": {},
   "outputs": [
    {
     "name": "stderr",
     "output_type": "stream",
     "text": [
      "/home/arpit_1/anaconda3/envs/whale/lib/python3.8/site-packages/torchaudio/backend/utils.py:53: UserWarning: \"sox\" backend is being deprecated. The default backend will be changed to \"sox_io\" backend in 0.8.0 and \"sox\" backend will be removed in 0.9.0. Please migrate to \"sox_io\" backend. Please refer to https://github.com/pytorch/audio/issues/903 for the detail.\n",
      "  warnings.warn(\n"
     ]
    }
   ],
   "source": [
    "#Please activate whale environment before running jupyter-notebook \n",
    "import torch\n",
    "import torchaudio\n",
    "import requests\n",
    "import matplotlib.pyplot as plt\n",
    "import numpy as np\n",
    "import librosa\n",
    "import librosa.display\n",
    "import glob, os\n",
    "import pandas as pd\n",
    "import pickle\n",
    "from hurry.filesize import size"
   ]
  },
  {
   "cell_type": "code",
   "execution_count": 2,
   "id": "experimental-allah",
   "metadata": {},
   "outputs": [],
   "source": [
    "path_casey14 = '/home/arpit_1/whale/dataset/annotatedLibrary/annotatedLibrary/casey2014/wav/'\n",
    "path_balleny = '/home/arpit_1/whale/dataset/annotatedLibrary/annotatedLibrary/BallenyIslands2015/wav/'\n",
    "path_casey17 = '/home/arpit_1/whale/dataset/annotatedLibrary/annotatedLibrary/casey2017/wav/'\n",
    "#path_elephant13 = '/home/arpit_1/whale/dataset/annotatedLibrary/annotatedLibrary/ElephantIsland2013Aural/wav/'\n",
    "#path_elephant14 = '/home/arpit_1/whale/dataset/annotatedLibrary/annotatedLibrary/ElephantIsland2014/wav/'\n",
    "path_green = '/home/arpit_1/whale/dataset/annotatedLibrary/annotatedLibrary/Greenwich64S2015/wav/'\n",
    "path_kerguelen05 = '/home/arpit_1/whale/dataset/annotatedLibrary/annotatedLibrary/kerguelen2005/wav/'\n",
    "path_kerguelen14 = '/home/arpit_1/whale/dataset/annotatedLibrary/annotatedLibrary/kerguelen2014/wav/'\n",
    "path_kerguelen15 = '/home/arpit_1/whale/dataset/annotatedLibrary/annotatedLibrary/kerguelen2015/wav/'\n",
    "path_maud = '/home/arpit_1/whale/dataset/annotatedLibrary/annotatedLibrary/MaudRise2014/wav/'\n",
    "#path_ross = '/home/arpit_1/whale/dataset/annotatedLibrary/annotatedLibrary/RossSea2014/wav/'"
   ]
  },
  {
   "cell_type": "code",
   "execution_count": 3,
   "id": "flying-chain",
   "metadata": {},
   "outputs": [],
   "source": [
    "#X-Data\n",
    "def loadData(path):\n",
    "    all_files = glob.glob(path + '*.p')\n",
    "    mydata = []\n",
    "    for curr_file in all_files:\n",
    "        with open(curr_file, 'rb') as f:\n",
    "            mydata.append(pickle.load(f))\n",
    "    return mydata"
   ]
  },
  {
   "cell_type": "code",
   "execution_count": 4,
   "id": "civil-toilet",
   "metadata": {},
   "outputs": [],
   "source": [
    "#Y-labels\n",
    "def labels(path1, path2):\n",
    "    df_samples = pd.read_excel(path1, engine='openpyxl')\n",
    "    df_samples = df_samples.filter(['Bm Ant-A', 'Bm Ant-B', 'Bm Ant-Z'])\n",
    "    mydata = loadData(path2)\n",
    "    df_samples = df_samples.assign(Data=mydata)\n",
    "    new_order = [3,0,1,2]\n",
    "    df_samples = df_samples[df_samples.columns[new_order]]\n",
    "    return df_samples"
   ]
  },
  {
   "cell_type": "code",
   "execution_count": 8,
   "id": "impressed-italic",
   "metadata": {},
   "outputs": [],
   "source": [
    "## Elephant 2014 ##\n",
    "\n",
    "#X-Data\n",
    "def loadData1(path):\n",
    "    all_files = glob.glob(path + '*.p')\n",
    "    mydata = []\n",
    "    for curr_file in all_files:\n",
    "        with open(curr_file, 'rb') as f:\n",
    "            mydata.append(pickle.load(f))\n",
    "    return mydata\n",
    "#Y-labels\n",
    "def labels1(path1, path2):\n",
    "    df_samples = pd.read_excel(path1, engine='openpyxl')\n",
    "    df_samples = df_samples.filter(['Bm_Ant-A', 'Bm_Ant-B', 'Bm_Ant-Z'])\n",
    "    mydata = loadData(path2)\n",
    "    df_samples = df_samples.assign(Data=mydata)\n",
    "    new_order = [3,0,1,2]\n",
    "    df_samples = df_samples[df_samples.columns[new_order]]\n",
    "    return df_samples\n",
    "data_elephant14 = labels1('/home/arpit_1/whale/dataset/annotatedLibrary/annotatedLibrary/ElephantIsland2014/annotation_metadata_Elephant_Island_EL.xlsx', '/home/arpit_1/whale/dataset/annotatedLibrary/annotatedLibrary/ElephantIsland2014/wav/elephant14/')"
   ]
  },
  {
   "cell_type": "code",
   "execution_count": 5,
   "id": "combined-distinction",
   "metadata": {},
   "outputs": [],
   "source": [
    "data_casey2014 = labels('/home/arpit_1/whale/dataset/annotatedLibrary/annotatedLibrary/casey2014/casey2014_annotation_metadata_NB.xlsx', '/home/arpit_1/whale/dataset/annotatedLibrary/annotatedLibrary/casey2014/wav/casey2014/')"
   ]
  },
  {
   "cell_type": "code",
   "execution_count": 6,
   "id": "extra-article",
   "metadata": {},
   "outputs": [],
   "source": [
    "data_balleny = labels('/home/arpit_1/whale/dataset/annotatedLibrary/annotatedLibrary/BallenyIslands2015/annotation_metadata_Baleeny2015_HC03_FINAL.xlsx', '/home/arpit_1/whale/dataset/annotatedLibrary/annotatedLibrary/BallenyIslands2015/wav/balleny/')"
   ]
  },
  {
   "cell_type": "code",
   "execution_count": 7,
   "id": "interior-controversy",
   "metadata": {},
   "outputs": [],
   "source": [
    "data_casey2017 = labels('/home/arpit_1/whale/dataset/annotatedLibrary/annotatedLibrary/casey2017/annotation_metadata_casey2017.xlsx', '/home/arpit_1/whale/dataset/annotatedLibrary/annotatedLibrary/casey2017/wav/casey17/')"
   ]
  },
  {
   "cell_type": "code",
   "execution_count": 9,
   "id": "swiss-collapse",
   "metadata": {},
   "outputs": [],
   "source": [
    "data_green = labels('/home/arpit_1/whale/dataset/annotatedLibrary/annotatedLibrary/Greenwich64S2015/AWI2015_subsample_Balcazar.xlsx', '/home/arpit_1/whale/dataset/annotatedLibrary/annotatedLibrary/Greenwich64S2015/wav/Greenwich/')"
   ]
  },
  {
   "cell_type": "code",
   "execution_count": 10,
   "id": "artistic-girlfriend",
   "metadata": {},
   "outputs": [],
   "source": [
    "data_kerguelen05 = labels('/home/arpit_1/whale/dataset/annotatedLibrary/annotatedLibrary/kerguelen2005/kerguelen2005_subsample_Balcazar.xlsx', '/home/arpit_1/whale/dataset/annotatedLibrary/annotatedLibrary/kerguelen2005/wav/Kerguelen05/')"
   ]
  },
  {
   "cell_type": "code",
   "execution_count": 11,
   "id": "prompt-wagon",
   "metadata": {},
   "outputs": [],
   "source": [
    "data_kerguelen14 = labels('/home/arpit_1/whale/dataset/annotatedLibrary/annotatedLibrary/kerguelen2014/kerguelen2014_annotation_metadata_NB.xlsx', '/home/arpit_1/whale/dataset/annotatedLibrary/annotatedLibrary/kerguelen2014/wav/Kerguelen14/')"
   ]
  },
  {
   "cell_type": "code",
   "execution_count": 12,
   "id": "colored-springfield",
   "metadata": {},
   "outputs": [],
   "source": [
    "data_kerguelen15 = labels('/home/arpit_1/whale/dataset/annotatedLibrary/annotatedLibrary/kerguelen2015/kerguelen2015_subsample_Balcazar.xlsx', '/home/arpit_1/whale/dataset/annotatedLibrary/annotatedLibrary/kerguelen2015/wav/Kerguelen15/')"
   ]
  },
  {
   "cell_type": "code",
   "execution_count": 13,
   "id": "enclosed-reward",
   "metadata": {},
   "outputs": [],
   "source": [
    "data_maud = labels('/home/arpit_1/whale/dataset/annotatedLibrary/annotatedLibrary/RossSea2014/annotation_metadata_Ross2014_SLN_FINAL.xlsx', '/home/arpit_1/whale/dataset/annotatedLibrary/annotatedLibrary/RossSea2014/wav/Ross/')"
   ]
  },
  {
   "cell_type": "code",
   "execution_count": 18,
   "id": "starting-limitation",
   "metadata": {},
   "outputs": [],
   "source": [
    "final_data = pd.concat([data_casey2014,data_balleny, data_casey2017, data_green, data_kerguelen05, data_kerguelen14, data_kerguelen15, data_maud], axis=0)"
   ]
  },
  {
   "cell_type": "code",
   "execution_count": 20,
   "id": "spare-moses",
   "metadata": {},
   "outputs": [],
   "source": [
    "final_data.reset_index(drop=True, inplace = True)"
   ]
  },
  {
   "cell_type": "code",
   "execution_count": 21,
   "id": "excessive-wiring",
   "metadata": {},
   "outputs": [
    {
     "data": {
      "text/html": [
       "<div>\n",
       "<style scoped>\n",
       "    .dataframe tbody tr th:only-of-type {\n",
       "        vertical-align: middle;\n",
       "    }\n",
       "\n",
       "    .dataframe tbody tr th {\n",
       "        vertical-align: top;\n",
       "    }\n",
       "\n",
       "    .dataframe thead th {\n",
       "        text-align: right;\n",
       "    }\n",
       "</style>\n",
       "<table border=\"1\" class=\"dataframe\">\n",
       "  <thead>\n",
       "    <tr style=\"text-align: right;\">\n",
       "      <th></th>\n",
       "      <th>Data</th>\n",
       "      <th>Bm Ant-A</th>\n",
       "      <th>Bm Ant-B</th>\n",
       "      <th>Bm Ant-Z</th>\n",
       "    </tr>\n",
       "  </thead>\n",
       "  <tbody>\n",
       "    <tr>\n",
       "      <th>0</th>\n",
       "      <td>[[24.66304, 24.655657, 24.649937, 24.649567, 2...</td>\n",
       "      <td>present</td>\n",
       "      <td>absent</td>\n",
       "      <td>absent</td>\n",
       "    </tr>\n",
       "    <tr>\n",
       "      <th>1</th>\n",
       "      <td>[[24.719927, 24.680874, 24.634573, 24.631899, ...</td>\n",
       "      <td>absent</td>\n",
       "      <td>absent</td>\n",
       "      <td>absent</td>\n",
       "    </tr>\n",
       "    <tr>\n",
       "      <th>2</th>\n",
       "      <td>[[24.65588, 24.648645, 24.638155, 24.636345, 2...</td>\n",
       "      <td>present</td>\n",
       "      <td>absent</td>\n",
       "      <td>absent</td>\n",
       "    </tr>\n",
       "    <tr>\n",
       "      <th>3</th>\n",
       "      <td>[[24.66291, 24.654217, 24.63519, 24.639671, 24...</td>\n",
       "      <td>present</td>\n",
       "      <td>present</td>\n",
       "      <td>absent</td>\n",
       "    </tr>\n",
       "    <tr>\n",
       "      <th>4</th>\n",
       "      <td>[[24.684679, 24.672157, 24.6591, 24.65715, 24....</td>\n",
       "      <td>likely</td>\n",
       "      <td>absent</td>\n",
       "      <td>absent</td>\n",
       "    </tr>\n",
       "    <tr>\n",
       "      <th>...</th>\n",
       "      <td>...</td>\n",
       "      <td>...</td>\n",
       "      <td>...</td>\n",
       "      <td>...</td>\n",
       "    </tr>\n",
       "    <tr>\n",
       "      <th>1547</th>\n",
       "      <td>[[13.178539, 13.211665, 13.236829, 13.228045, ...</td>\n",
       "      <td>absent</td>\n",
       "      <td>absent</td>\n",
       "      <td>absent</td>\n",
       "    </tr>\n",
       "    <tr>\n",
       "      <th>1548</th>\n",
       "      <td>[[13.214807, 13.244877, 13.245164, 13.222555, ...</td>\n",
       "      <td>absent</td>\n",
       "      <td>absent</td>\n",
       "      <td>absent</td>\n",
       "    </tr>\n",
       "    <tr>\n",
       "      <th>1549</th>\n",
       "      <td>[[13.182922, 13.21434, 13.227455, 13.213363, 1...</td>\n",
       "      <td>absent</td>\n",
       "      <td>absent</td>\n",
       "      <td>absent</td>\n",
       "    </tr>\n",
       "    <tr>\n",
       "      <th>1550</th>\n",
       "      <td>[[13.2758045, 13.264246, 13.259282, 13.253547,...</td>\n",
       "      <td>absent</td>\n",
       "      <td>absent</td>\n",
       "      <td>absent</td>\n",
       "    </tr>\n",
       "    <tr>\n",
       "      <th>1551</th>\n",
       "      <td>[[13.104158, 13.199153, 13.272376, 13.262039, ...</td>\n",
       "      <td>absent</td>\n",
       "      <td>absent</td>\n",
       "      <td>absent</td>\n",
       "    </tr>\n",
       "  </tbody>\n",
       "</table>\n",
       "<p>1552 rows × 4 columns</p>\n",
       "</div>"
      ],
      "text/plain": [
       "                                                   Data Bm Ant-A Bm Ant-B  \\\n",
       "0     [[24.66304, 24.655657, 24.649937, 24.649567, 2...  present   absent   \n",
       "1     [[24.719927, 24.680874, 24.634573, 24.631899, ...   absent   absent   \n",
       "2     [[24.65588, 24.648645, 24.638155, 24.636345, 2...  present   absent   \n",
       "3     [[24.66291, 24.654217, 24.63519, 24.639671, 24...  present  present   \n",
       "4     [[24.684679, 24.672157, 24.6591, 24.65715, 24....   likely   absent   \n",
       "...                                                 ...      ...      ...   \n",
       "1547  [[13.178539, 13.211665, 13.236829, 13.228045, ...   absent   absent   \n",
       "1548  [[13.214807, 13.244877, 13.245164, 13.222555, ...   absent   absent   \n",
       "1549  [[13.182922, 13.21434, 13.227455, 13.213363, 1...   absent   absent   \n",
       "1550  [[13.2758045, 13.264246, 13.259282, 13.253547,...   absent   absent   \n",
       "1551  [[13.104158, 13.199153, 13.272376, 13.262039, ...   absent   absent   \n",
       "\n",
       "     Bm Ant-Z  \n",
       "0      absent  \n",
       "1      absent  \n",
       "2      absent  \n",
       "3      absent  \n",
       "4      absent  \n",
       "...       ...  \n",
       "1547   absent  \n",
       "1548   absent  \n",
       "1549   absent  \n",
       "1550   absent  \n",
       "1551   absent  \n",
       "\n",
       "[1552 rows x 4 columns]"
      ]
     },
     "execution_count": 21,
     "metadata": {},
     "output_type": "execute_result"
    }
   ],
   "source": [
    "final_data"
   ]
  },
  {
   "cell_type": "code",
   "execution_count": 22,
   "id": "transparent-sandwich",
   "metadata": {},
   "outputs": [],
   "source": [
    "final_data.to_pickle('cleanedData.p') "
   ]
  },
  {
   "cell_type": "code",
   "execution_count": 23,
   "id": "excess-architecture",
   "metadata": {},
   "outputs": [],
   "source": [
    "df = pd.read_pickle('cleanedData.p')"
   ]
  },
  {
   "cell_type": "code",
   "execution_count": 24,
   "id": "sought-patrick",
   "metadata": {},
   "outputs": [
    {
     "data": {
      "text/html": [
       "<div>\n",
       "<style scoped>\n",
       "    .dataframe tbody tr th:only-of-type {\n",
       "        vertical-align: middle;\n",
       "    }\n",
       "\n",
       "    .dataframe tbody tr th {\n",
       "        vertical-align: top;\n",
       "    }\n",
       "\n",
       "    .dataframe thead th {\n",
       "        text-align: right;\n",
       "    }\n",
       "</style>\n",
       "<table border=\"1\" class=\"dataframe\">\n",
       "  <thead>\n",
       "    <tr style=\"text-align: right;\">\n",
       "      <th></th>\n",
       "      <th>Data</th>\n",
       "      <th>Bm Ant-A</th>\n",
       "      <th>Bm Ant-B</th>\n",
       "      <th>Bm Ant-Z</th>\n",
       "    </tr>\n",
       "  </thead>\n",
       "  <tbody>\n",
       "    <tr>\n",
       "      <th>0</th>\n",
       "      <td>[[24.66304, 24.655657, 24.649937, 24.649567, 2...</td>\n",
       "      <td>present</td>\n",
       "      <td>absent</td>\n",
       "      <td>absent</td>\n",
       "    </tr>\n",
       "    <tr>\n",
       "      <th>1</th>\n",
       "      <td>[[24.719927, 24.680874, 24.634573, 24.631899, ...</td>\n",
       "      <td>absent</td>\n",
       "      <td>absent</td>\n",
       "      <td>absent</td>\n",
       "    </tr>\n",
       "    <tr>\n",
       "      <th>2</th>\n",
       "      <td>[[24.65588, 24.648645, 24.638155, 24.636345, 2...</td>\n",
       "      <td>present</td>\n",
       "      <td>absent</td>\n",
       "      <td>absent</td>\n",
       "    </tr>\n",
       "    <tr>\n",
       "      <th>3</th>\n",
       "      <td>[[24.66291, 24.654217, 24.63519, 24.639671, 24...</td>\n",
       "      <td>present</td>\n",
       "      <td>present</td>\n",
       "      <td>absent</td>\n",
       "    </tr>\n",
       "    <tr>\n",
       "      <th>4</th>\n",
       "      <td>[[24.684679, 24.672157, 24.6591, 24.65715, 24....</td>\n",
       "      <td>likely</td>\n",
       "      <td>absent</td>\n",
       "      <td>absent</td>\n",
       "    </tr>\n",
       "    <tr>\n",
       "      <th>...</th>\n",
       "      <td>...</td>\n",
       "      <td>...</td>\n",
       "      <td>...</td>\n",
       "      <td>...</td>\n",
       "    </tr>\n",
       "    <tr>\n",
       "      <th>1547</th>\n",
       "      <td>[[13.178539, 13.211665, 13.236829, 13.228045, ...</td>\n",
       "      <td>absent</td>\n",
       "      <td>absent</td>\n",
       "      <td>absent</td>\n",
       "    </tr>\n",
       "    <tr>\n",
       "      <th>1548</th>\n",
       "      <td>[[13.214807, 13.244877, 13.245164, 13.222555, ...</td>\n",
       "      <td>absent</td>\n",
       "      <td>absent</td>\n",
       "      <td>absent</td>\n",
       "    </tr>\n",
       "    <tr>\n",
       "      <th>1549</th>\n",
       "      <td>[[13.182922, 13.21434, 13.227455, 13.213363, 1...</td>\n",
       "      <td>absent</td>\n",
       "      <td>absent</td>\n",
       "      <td>absent</td>\n",
       "    </tr>\n",
       "    <tr>\n",
       "      <th>1550</th>\n",
       "      <td>[[13.2758045, 13.264246, 13.259282, 13.253547,...</td>\n",
       "      <td>absent</td>\n",
       "      <td>absent</td>\n",
       "      <td>absent</td>\n",
       "    </tr>\n",
       "    <tr>\n",
       "      <th>1551</th>\n",
       "      <td>[[13.104158, 13.199153, 13.272376, 13.262039, ...</td>\n",
       "      <td>absent</td>\n",
       "      <td>absent</td>\n",
       "      <td>absent</td>\n",
       "    </tr>\n",
       "  </tbody>\n",
       "</table>\n",
       "<p>1552 rows × 4 columns</p>\n",
       "</div>"
      ],
      "text/plain": [
       "                                                   Data Bm Ant-A Bm Ant-B  \\\n",
       "0     [[24.66304, 24.655657, 24.649937, 24.649567, 2...  present   absent   \n",
       "1     [[24.719927, 24.680874, 24.634573, 24.631899, ...   absent   absent   \n",
       "2     [[24.65588, 24.648645, 24.638155, 24.636345, 2...  present   absent   \n",
       "3     [[24.66291, 24.654217, 24.63519, 24.639671, 24...  present  present   \n",
       "4     [[24.684679, 24.672157, 24.6591, 24.65715, 24....   likely   absent   \n",
       "...                                                 ...      ...      ...   \n",
       "1547  [[13.178539, 13.211665, 13.236829, 13.228045, ...   absent   absent   \n",
       "1548  [[13.214807, 13.244877, 13.245164, 13.222555, ...   absent   absent   \n",
       "1549  [[13.182922, 13.21434, 13.227455, 13.213363, 1...   absent   absent   \n",
       "1550  [[13.2758045, 13.264246, 13.259282, 13.253547,...   absent   absent   \n",
       "1551  [[13.104158, 13.199153, 13.272376, 13.262039, ...   absent   absent   \n",
       "\n",
       "     Bm Ant-Z  \n",
       "0      absent  \n",
       "1      absent  \n",
       "2      absent  \n",
       "3      absent  \n",
       "4      absent  \n",
       "...       ...  \n",
       "1547   absent  \n",
       "1548   absent  \n",
       "1549   absent  \n",
       "1550   absent  \n",
       "1551   absent  \n",
       "\n",
       "[1552 rows x 4 columns]"
      ]
     },
     "execution_count": 24,
     "metadata": {},
     "output_type": "execute_result"
    }
   ],
   "source": [
    "df"
   ]
  }
 ],
 "metadata": {
  "kernelspec": {
   "display_name": "Python 3",
   "language": "python",
   "name": "python3"
  },
  "language_info": {
   "codemirror_mode": {
    "name": "ipython",
    "version": 3
   },
   "file_extension": ".py",
   "mimetype": "text/x-python",
   "name": "python",
   "nbconvert_exporter": "python",
   "pygments_lexer": "ipython3",
   "version": "3.8.5"
  }
 },
 "nbformat": 4,
 "nbformat_minor": 5
}
